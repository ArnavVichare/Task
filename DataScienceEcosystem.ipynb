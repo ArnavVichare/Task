{
 "cells": [
  {
   "cell_type": "markdown",
   "id": "b8586951-5171-4811-99db-38c30ddb23bf",
   "metadata": {},
   "source": [
    "# Data Science Tools and Ecosystem"
   ]
  },
  {
   "cell_type": "markdown",
   "id": "9672b2af-63cf-408e-9be8-6114015e09b2",
   "metadata": {},
   "source": [
    "In this notebook, Data Science Tools and Ecosystem are summarized."
   ]
  },
  {
   "cell_type": "markdown",
   "id": "45a24568-a674-4fe6-a50d-8fa7b57fdf7d",
   "metadata": {},
   "source": [
    "Some of the popular languages that Data Scientists use are:\n",
    "\n",
    "1. **Python**: Widely used for its simplicity, vast libraries (such as Pandas, NumPy, SciPy), and flexibility in data manipulation, analysis, and machine learning.\n",
    "2. **R**: Known for statistical analysis, data visualization, and a wide range of packages for data exploration and statistical modeling.\n",
    "3. **SQL (Structured Query Language)**: Essential for managing and querying relational databases, a fundamental skill for accessing and processing data."
   ]
  },
  {
   "cell_type": "markdown",
   "id": "5f997ed5-d486-4d55-ab00-e735f64c1304",
   "metadata": {},
   "source": [
    "Some of the commonly used libraries used by Data Scientists include:\n",
    "\n",
    "1. **Pandas**: A powerful library for data manipulation and analysis, offering data structures and operations for manipulating numerical tables and time series.\n",
    "2. **NumPy**: Essential for numerical computing in Python, providing support for arrays, matrices, and mathematical functions.\n",
    "3. **Scikit-learn**: A machine learning library that provides simple and efficient tools for data mining and data analysis, built on NumPy, SciPy, and Matplotlib."
   ]
  },
  {
   "cell_type": "markdown",
   "id": "acd34ad5-1312-47b1-a389-bc4163e6d3ef",
   "metadata": {},
   "source": [
    "| Data Science Tools     |\n",
    "|------------------------|\n",
    "| Jupyter Notebooks      |\n",
    "| RStudio                |\n",
    "| VS Code with Extensions|"
   ]
  },
  {
   "cell_type": "markdown",
   "id": "dcba568d-a436-4451-92e8-605a07b3cd6b",
   "metadata": {},
   "source": [
    "<h3>Below are a few examples of evaluating arithmetic expressions in Python</h3>"
   ]
  },
  {
   "cell_type": "code",
   "execution_count": 6,
   "id": "9822b1bb-d917-4f41-97cb-ddbe529ff637",
   "metadata": {},
   "outputs": [
    {
     "data": {
      "text/plain": [
       "17"
      ]
     },
     "execution_count": 6,
     "metadata": {},
     "output_type": "execute_result"
    }
   ],
   "source": [
    "# This a simple arithmetic expression to mutiply then add integers\n",
    "(3*4)+5"
   ]
  },
  {
   "cell_type": "code",
   "execution_count": 7,
   "id": "87e7c34c-f125-41ba-a52d-24f85f8a7377",
   "metadata": {},
   "outputs": [
    {
     "name": "stdout",
     "output_type": "stream",
     "text": [
      "3.3333333333333335\n"
     ]
    }
   ],
   "source": [
    "# This will convert 200 minutes to hours by diving by 60\n",
    "minutes = 200\n",
    "hours = minutes/60\n",
    "print(hours)"
   ]
  },
  {
   "cell_type": "markdown",
   "id": "526249a0-ea8c-48b0-951f-7b4c98e387ce",
   "metadata": {},
   "source": [
    "**Objectives:**\n",
    "\n",
    "- Listed popular languages for Data Science.\n",
    "- Highlighted commonly used libraries in Data Science.\n",
    "- Explored open-source tools in Data Science development environments.\n",
    "- Discussed a few arithmetic expressions in Python."
   ]
  },
  {
   "cell_type": "markdown",
   "id": "f45fab00-08d6-4c40-a2b0-bae72f5be095",
   "metadata": {},
   "source": [
    "<h2> Author</h2>\n",
    "\n",
    "Arnav Vichare"
   ]
  },
  {
   "cell_type": "code",
   "execution_count": null,
   "id": "6ec587e0-4a19-405c-8c24-766f77dadc25",
   "metadata": {},
   "outputs": [],
   "source": []
  }
 ],
 "metadata": {
  "kernelspec": {
   "display_name": "Python 3 (ipykernel)",
   "language": "python",
   "name": "python3"
  },
  "language_info": {
   "codemirror_mode": {
    "name": "ipython",
    "version": 3
   },
   "file_extension": ".py",
   "mimetype": "text/x-python",
   "name": "python",
   "nbconvert_exporter": "python",
   "pygments_lexer": "ipython3",
   "version": "3.9.12"
  }
 },
 "nbformat": 4,
 "nbformat_minor": 5
}
